{
 "cells": [
  {
   "cell_type": "markdown",
   "id": "2d10608e",
   "metadata": {},
   "source": [
    "# DDB API: `items`\n",
    "\n",
    "OpenAPI-Dokumentation: https://labs.deutsche-digitale-bibliothek.de/app/ddbapi/#/institutions"
   ]
  },
  {
   "cell_type": "code",
   "execution_count": null,
   "id": "30d0f862",
   "metadata": {},
   "outputs": [],
   "source": [
    "# Modulimport\n",
    "import requests # Standardbibliothek zur Interaktion mit Servern über HTTP\n",
    "from lxml import etree"
   ]
  },
  {
   "cell_type": "code",
   "execution_count": null,
   "id": "052ce73d",
   "metadata": {},
   "outputs": [],
   "source": [
    "# APIKEY wird entweder aus einer Datei eingelesen\n",
    "try:\n",
    "    with open('../apikey.txt', 'r') as IN:\n",
    "        APIKEY = IN.read()\n",
    "# oder manuell eingegeben\n",
    "except:\n",
    "    APIKEY = \"\""
   ]
  },
  {
   "cell_type": "code",
   "execution_count": null,
   "id": "55fb15b6",
   "metadata": {},
   "outputs": [],
   "source": [
    "endpunkt = \"https://api.deutsche-digitale-bibliothek.de/items\"\n",
    "\n",
    "# HTTP Request-Header\n",
    "headers = {\n",
    "    'Accept' : 'application/json',\n",
    "    'Authorization' : f'OAuth oauth_consumer_key=\"{APIKEY}\"'\n",
    "}"
   ]
  },
  {
   "cell_type": "code",
   "execution_count": null,
   "id": "7b53dd5f",
   "metadata": {},
   "outputs": [],
   "source": [
    "ID = \"YTCAEHYAOJN2EAYET3DV2FGCN7KLR33G\" # https://www.deutsche-digitale-bibliothek.de/item/YTCAEHYAOJN2EAYET3DV2FGCN7KLR33G"
   ]
  },
  {
   "cell_type": "code",
   "execution_count": null,
   "id": "94efd5e5",
   "metadata": {},
   "outputs": [],
   "source": [
    "res = requests.get(endpunkt + \"/\" + ID, headers = headers)"
   ]
  },
  {
   "cell_type": "code",
   "execution_count": null,
   "id": "f9d1ca38",
   "metadata": {},
   "outputs": [],
   "source": [
    "# Quelldatensatz wird mitausgegeben (Format in diesem Fall LIDO)\n",
    "source = res.json()['source']['record']['$']\n",
    "source = bytes(source, encoding = 'utf-8') # es kann Fehlermeldungen wg. Kodierungsproblemen geben, diesen wollen wir vorbeugen"
   ]
  },
  {
   "cell_type": "code",
   "execution_count": null,
   "id": "ac7e36a3",
   "metadata": {},
   "outputs": [],
   "source": [
    "# Parsen des LIDO-Datensatzes:\n",
    "tree = etree.fromstring(source)"
   ]
  },
  {
   "cell_type": "code",
   "execution_count": null,
   "id": "fc5c9f89",
   "metadata": {},
   "outputs": [],
   "source": [
    "# Spaßeshalber iterieren wir über alle Elemente des Baums\n",
    "for elem in tree.iter():\n",
    "    print(elem, elem.tag, elem.attrib, elem.text)"
   ]
  },
  {
   "cell_type": "code",
   "execution_count": null,
   "id": "bee33158",
   "metadata": {},
   "outputs": [],
   "source": [
    "# Extrahiere eine Liste aller actorIDs\n",
    "actorIDs = [_.text for _ in tree.findall('.//{http://www.lido-schema.org}actorID')]\n",
    "print(actorIDs)"
   ]
  }
 ],
 "metadata": {
  "language_info": {
   "name": "python"
  }
 },
 "nbformat": 4,
 "nbformat_minor": 5
}
