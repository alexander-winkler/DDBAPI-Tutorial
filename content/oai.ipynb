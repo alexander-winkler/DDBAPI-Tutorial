{
 "cells": [
  {
   "cell_type": "markdown",
   "id": "bd86a5e6",
   "metadata": {},
   "source": [
    "# Die OAI-Schnittstelle der DDB\n",
    "\n",
    "Erläuterungen [hier](https://pro.deutsche-digitale-bibliothek.de/daten-nutzen/schnittstellen)."
   ]
  },
  {
   "cell_type": "code",
   "execution_count": null,
   "id": "e3f06a50",
   "metadata": {},
   "outputs": [],
   "source": [
    "import requests\n",
    "from lxml import etree"
   ]
  },
  {
   "cell_type": "markdown",
   "id": "2959c25b",
   "metadata": {},
   "source": [
    "## Abruf eines Datensatzes"
   ]
  },
  {
   "cell_type": "code",
   "execution_count": null,
   "id": "761b9805",
   "metadata": {},
   "outputs": [],
   "source": [
    "DDBID = \"UMVCL6VZQ4K6QMGFO3KYREKEKRVFSO3V\"\n",
    "\n",
    "endpoint = \"https://oai.deutsche-digitale-bibliothek.de/\"\n",
    "parameters = {\n",
    "    'verb' : 'GetRecord',\n",
    "    'metadataPrefix' : 'edm',\n",
    "    'identifier' : DDBID\n",
    "}\n",
    "\n",
    "res = requests.get(endpoint, params = parameters)"
   ]
  },
  {
   "cell_type": "code",
   "execution_count": null,
   "id": "373f3d4d",
   "metadata": {},
   "outputs": [],
   "source": [
    "# Antwort im edm-XML-Format kann mit lxml.etree geparst werden\n",
    "tree = etree.fromstring(res.content)"
   ]
  },
  {
   "cell_type": "code",
   "execution_count": null,
   "id": "5c1d0a9f",
   "metadata": {},
   "outputs": [],
   "source": [
    "for i in tree.findall('.//{http://www.europeana.eu/schemas/edm/}rights'):\n",
    "    # Titel\n",
    "    \n",
    "    # Lizenz\n",
    "    print(i.attrib['{http://www.w3.org/1999/02/22-rdf-syntax-ns#}resource'])"
   ]
  },
  {
   "cell_type": "markdown",
   "id": "a2aac0c8",
   "metadata": {},
   "source": [
    "## Iteration mit `resumptionToken`"
   ]
  },
  {
   "cell_type": "code",
   "execution_count": null,
   "id": "3cdb17d4",
   "metadata": {},
   "outputs": [],
   "source": [
    "endpoint = \"https://oai.deutsche-digitale-bibliothek.de/\"\n",
    "parameters = {\n",
    "    'verb' : 'ListRecords',\n",
    "    'metadataPrefix' : 'oai_dc',\n",
    "    'set' : '10043873474079001skGZ:rights_003'\n",
    "}\n",
    "\n",
    "res = requests.get(endpoint, params = parameters)"
   ]
  },
  {
   "cell_type": "code",
   "execution_count": null,
   "id": "ae1860da",
   "metadata": {},
   "outputs": [],
   "source": [
    "def parseResponse(res):\n",
    "    '''Nimmt eine Antwort, liest z.B. die Identifikatoren aus\n",
    "    sowie das resumptionToken'''\n",
    "    \n",
    "    tree = etree.fromstring(res.content)\n",
    "    resumptionToken = tree.find('.//{http://www.openarchives.org/OAI/2.0/}resumptionToken').text\n",
    "    identifiers = tree.xpath('//oai:identifier/text()', namespaces =  { 'oai' : 'http://www.openarchives.org/OAI/2.0/' })\n",
    "    return (identifiers, resumptionToken)"
   ]
  },
  {
   "cell_type": "code",
   "execution_count": null,
   "id": "7b519c5d",
   "metadata": {},
   "outputs": [],
   "source": [
    "def callOAI(*resumptionToken)\n",
    "    endpoint = \"https://oai.deutsche-digitale-bibliothek.de/\"\n",
    "    parameters = {\n",
    "        'verb' : 'ListRecords',\n",
    "        'metadataPrefix' : 'oai_dc',\n",
    "        'set' : '10043873474079001skGZ:rights_003'\n",
    "    }\n",
    "    if len(resumptionToken) > \n",
    "    res = requests.get(endpoint, params = parameters)"
   ]
  },
  {
   "cell_type": "code",
   "execution_count": null,
   "id": "ea5054e3",
   "metadata": {},
   "outputs": [],
   "source": [
    "identifiers = list()\n",
    "resumptionToken = \"firstRund\"\n",
    "\n",
    "while len(resumptionToken) > 0:\n",
    "    oaiCall = parseResponse()"
   ]
  },
  {
   "cell_type": "code",
   "execution_count": null,
   "id": "1a5e0dc6",
   "metadata": {},
   "outputs": [],
   "source": [
    "identifiers = list()\n",
    "\n",
    "# erster Abruf\n",
    "endpoint = \"https://oai.deutsche-digitale-bibliothek.de/\"\n",
    "parameters = {\n",
    "    'verb' : 'ListRecords',\n",
    "    'metadataPrefix' : 'oai_dc',\n",
    "    'set' : '10043873474079001skGZ:rights_003'\n",
    "}\n",
    "\n",
    "res = requests.get(endpoint, params = parameters)\n",
    "print(res.url)\n",
    "\n",
    "tempIdentifiers, resumptionToken = parseResponse(res)\n",
    "identifiers.extend(tempIdentifiers)\n",
    "\n",
    "del parameters['set']\n",
    "\n",
    "while True:       \n",
    "    endpoint = \"https://oai.deutsche-digitale-bibliothek.de/\"\n",
    "    parameters = {\n",
    "        'verb' : 'ListRecords',\n",
    "        'metadataPrefix' : 'oai_dc',\n",
    "        'resumptionToken' : resumptionToken\n",
    "    }\n",
    "\n",
    "    res = requests.get(endpoint, params = parameters)\n",
    "    tempIdentifiers, resumptionToken = parseResponse(res)\n",
    "    identifiers.extend(tempIdentifiers)\n",
    "    print(len(set(identifiers)))\n",
    "    #if len(resumptionToken) > 0:\n",
    "      #  break\n",
    "        \n",
    "        \n"
   ]
  },
  {
   "cell_type": "code",
   "execution_count": null,
   "id": "214f2c71",
   "metadata": {},
   "outputs": [],
   "source": []
  }
 ],
 "metadata": {
  "language_info": {
   "name": "python"
  }
 },
 "nbformat": 4,
 "nbformat_minor": 5
}
