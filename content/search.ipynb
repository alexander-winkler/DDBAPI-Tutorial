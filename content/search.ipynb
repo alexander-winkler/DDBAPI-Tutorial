{
 "cells": [
  {
   "cell_type": "code",
   "execution_count": null,
   "id": "1b476c5a",
   "metadata": {},
   "outputs": [],
   "source": [
    "import requests\n",
    "from matplotlib import pyplot as plt"
   ]
  },
  {
   "cell_type": "code",
   "execution_count": null,
   "id": "b45f9162",
   "metadata": {},
   "outputs": [],
   "source": [
    "with open(\"../apikey.txt\", \"r\") as IN:\n",
    "    APIKEY = IN.read()"
   ]
  },
  {
   "cell_type": "code",
   "execution_count": null,
   "id": "0fb9cc8c",
   "metadata": {},
   "outputs": [],
   "source": [
    "APIKEY"
   ]
  },
  {
   "cell_type": "markdown",
   "id": "3fc5ab0c",
   "metadata": {},
   "source": [
    "## Wie viele Objekte je Sektor gibt es?\n",
    "\n",
    "### Liste der Sektoren"
   ]
  },
  {
   "cell_type": "code",
   "execution_count": null,
   "id": "961a2b93",
   "metadata": {},
   "outputs": [],
   "source": [
    "headers = {\n",
    "    'Accept' : 'application/json',\n",
    "    'Authorization' : f'OAuth oauth_consumer_key=\"{APIKEY}\"'\n",
    "}\n",
    "\n",
    "res = requests.get('https://api.deutsche-digitale-bibliothek.de/institutions/sectors', headers = headers)\n",
    "\n",
    "sectorList = [_['value'] for _ in res.json()]"
   ]
  },
  {
   "cell_type": "markdown",
   "id": "d2aa0e02",
   "metadata": {},
   "source": [
    "### Zahl der Items je Sektor"
   ]
  },
  {
   "cell_type": "code",
   "execution_count": null,
   "id": "6d6e45af",
   "metadata": {},
   "outputs": [],
   "source": [
    "def itemsPerSector(sector):\n",
    "    res = requests.get(\"https://api.deutsche-digitale-bibliothek.de/search\",\n",
    "             params = {\n",
    "                 'query' : '*',\n",
    "                 'facet' : 'sector_fct',\n",
    "                 'sector_fct' : sector\n",
    "             },\n",
    "            headers = headers\n",
    "                      )\n",
    "    return res.json()"
   ]
  },
  {
   "cell_type": "code",
   "execution_count": null,
   "id": "bc44c465",
   "metadata": {},
   "outputs": [],
   "source": [
    "sectorStatistics = { s : int(itemsPerSector(s)['numberOfResults']) for s in sectorList }"
   ]
  },
  {
   "cell_type": "code",
   "execution_count": null,
   "id": "d0f14ab7",
   "metadata": {},
   "outputs": [],
   "source": [
    "xs,ys = zip(*sectorStatistics.items())\n",
    "plt.bar(xs, ys)\n",
    "plt.title(\"Zahl der Objekte je Sektor\")\n",
    "plt.show()"
   ]
  },
  {
   "cell_type": "markdown",
   "id": "14b97c6c",
   "metadata": {},
   "source": [
    "## Datenabzug nach Suchkriterien\n",
    "\n",
    "Wie ziehe ich mir alle Datensätze zu Käthe Kollwitz?"
   ]
  },
  {
   "cell_type": "code",
   "execution_count": null,
   "id": "2e45f0dc",
   "metadata": {},
   "outputs": [],
   "source": [
    "endpunkt = \"https://api.deutsche-digitale-bibliothek.de/search\"\n",
    "\n",
    "headers = {\n",
    "'Accept' : 'application/json',\n",
    "'Authorization' : f'OAuth oauth_consumer_key=\"{APIKEY}\"'\n",
    "}\n",
    "\n",
    "parameters = {\n",
    "    'facet' : 'affiliate_fct_role',\n",
    "    'affiliate_fct_role' : 'Käthe Kollwitz'\n",
    "}\n",
    "\n",
    "res = requests.get(endpunkt, headers = headers, params = parameters)"
   ]
  },
  {
   "cell_type": "code",
   "execution_count": null,
   "id": "207f9494",
   "metadata": {},
   "outputs": [],
   "source": [
    "for doc in res.json()['results'][0]['docs']:\n",
    "    item = requests.get(f'https://api.deutsche-digitale-bibliothek.de/items/{doc[\"id\"]}', headers = headers).json()\n",
    "    print(item)\n",
    "    break # höre nach dem ersten Durchlauf auf"
   ]
  },
  {
   "cell_type": "code",
   "execution_count": null,
   "id": "e0cbf036",
   "metadata": {},
   "outputs": [],
   "source": []
  }
 ],
 "metadata": {
  "language_info": {
   "name": "python"
  }
 },
 "nbformat": 4,
 "nbformat_minor": 5
}
