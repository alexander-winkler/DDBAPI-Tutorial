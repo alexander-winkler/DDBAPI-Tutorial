{
 "cells": [
  {
   "cell_type": "code",
   "execution_count": null,
   "id": "1b476c5a",
   "metadata": {},
   "outputs": [],
   "source": [
    "import requests\n",
    "from matplotlib import pyplot as plt"
   ]
  },
  {
   "cell_type": "code",
   "execution_count": null,
   "id": "b45f9162",
   "metadata": {},
   "outputs": [],
   "source": [
    "with open(\"../apikey.txt\", \"r\") as IN:\n",
    "    APIKEY = IN.read()"
   ]
  },
  {
   "cell_type": "code",
   "execution_count": null,
   "id": "0fb9cc8c",
   "metadata": {},
   "outputs": [],
   "source": [
    "APIKEY"
   ]
  },
  {
   "cell_type": "markdown",
   "id": "3fc5ab0c",
   "metadata": {},
   "source": [
    "## Wie viele Objekte je Sektor gibt es?\n",
    "\n",
    "### Liste der Sektoren"
   ]
  },
  {
   "cell_type": "code",
   "execution_count": null,
   "id": "961a2b93",
   "metadata": {},
   "outputs": [],
   "source": [
    "headers = {\n",
    "    'Accept' : 'application/json',\n",
    "    'Authorization' : f'OAuth oauth_consumer_key=\"{APIKEY}\"'\n",
    "}\n",
    "\n",
    "res = requests.get('https://api.deutsche-digitale-bibliothek.de/institutions/sectors', headers = headers)\n",
    "\n",
    "sectorList = [_['value'] for _ in res.json()]"
   ]
  },
  {
   "cell_type": "markdown",
   "id": "d2aa0e02",
   "metadata": {},
   "source": [
    "### Zahl der Items je Sektor"
   ]
  },
  {
   "cell_type": "code",
   "execution_count": null,
   "id": "6d6e45af",
   "metadata": {},
   "outputs": [],
   "source": [
    "def itemsPerSector(sector):\n",
    "    res = requests.get(\"https://api.deutsche-digitale-bibliothek.de/search\",\n",
    "             params = {\n",
    "                 'query' : '*',\n",
    "                 'facet' : 'sector_fct',\n",
    "                 'sector_fct' : sector\n",
    "             },\n",
    "            headers = headers\n",
    "                      )\n",
    "    return res.json()"
   ]
  },
  {
   "cell_type": "code",
   "execution_count": null,
   "id": "bc44c465",
   "metadata": {},
   "outputs": [],
   "source": [
    "sectorStatistics = { s : int(itemsPerSector(s)['numberOfResults']) for s in sectorList }"
   ]
  },
  {
   "cell_type": "code",
   "execution_count": null,
   "id": "d0f14ab7",
   "metadata": {},
   "outputs": [],
   "source": [
    "xs,ys = zip(*sectorStatistics.items())\n",
    "plt.bar(xs, ys)\n",
    "plt.title(\"Zahl der Objekte je Sektor\")\n",
    "plt.show()"
   ]
  },
  {
   "cell_type": "markdown",
   "id": "14b97c6c",
   "metadata": {},
   "source": [
    "## Datenabzug nach Suchkriterien\n",
    "\n",
    "Wie ziehe ich mir alle Datensätze zu Käthe Kollwitz?"
   ]
  },
  {
   "cell_type": "code",
   "execution_count": null,
   "id": "2e45f0dc",
   "metadata": {},
   "outputs": [],
   "source": [
    "endpunkt = \"https://api.deutsche-digitale-bibliothek.de/search\"\n",
    "\n",
    "headers = {\n",
    "'Accept' : 'application/json',\n",
    "'Authorization' : f'OAuth oauth_consumer_key=\"{APIKEY}\"'\n",
    "}\n",
    "\n",
    "parameters = {\n",
    "    'facet' : 'affiliate_fct_role',\n",
    "    'affiliate_fct_role' : 'Käthe Kollwitz'\n",
    "}\n",
    "\n",
    "res = requests.get(endpunkt, headers = headers, params = parameters)"
   ]
  },
  {
   "cell_type": "code",
   "execution_count": null,
   "id": "207f9494",
   "metadata": {},
   "outputs": [],
   "source": [
    "for doc in res.json()['results'][0]['docs']:\n",
    "    item = requests.get(f'https://api.deutsche-digitale-bibliothek.de/items/{doc[\"id\"]}', headers = headers).json()\n",
    "    print(item)\n",
    "    break # höre nach dem ersten Durchlauf auf"
   ]
  },
  {
   "cell_type": "markdown",
   "id": "173a9931",
   "metadata": {},
   "source": [
    "## Iteration durch Ergebnismenge ('Paging')\n",
    "\n",
    "### Ineffiziente Methode (mit Hochzählen von `offset`)"
   ]
  },
  {
   "cell_type": "code",
   "execution_count": null,
   "id": "e0cbf036",
   "metadata": {},
   "outputs": [],
   "source": [
    "endpoint = \"https://api.deutsche-digitale-bibliothek.de/search\"\n",
    "params = {\n",
    "  \"query\": \"dante alighieri\",\n",
    "  \"type_fct\": \"mediatype_002\",\n",
    "  \"facet\": [\n",
    "    \"type_fct\"\n",
    "  ]\n",
    "}\n",
    "\n",
    "headers = {\n",
    "  \"Accept\": \"application/json\",\n",
    "  \"Authorization\": f'OAuth oauth_consumer_key=\"{APIKEY}\"'\n",
    "}\n",
    "\n",
    "response = requests.get(endpoint, headers=headers, params=params)"
   ]
  },
  {
   "cell_type": "markdown",
   "id": "290fd3dd",
   "metadata": {},
   "source": [
    "Wie viele Objekte umfasst die Ergebnismenge?"
   ]
  },
  {
   "cell_type": "code",
   "execution_count": null,
   "id": "00e73db3",
   "metadata": {},
   "outputs": [],
   "source": [
    "numberOfResults = response.json().get('numberOfResults')\n",
    "print(numberOfResults)"
   ]
  },
  {
   "cell_type": "markdown",
   "id": "d1cb7b8a",
   "metadata": {},
   "source": [
    "Wir wollen jetzt in Zehnerschritten durch die Anfrage iterieren und nach und nach alle IDs in Liste `collectedIDs` einsammeln."
   ]
  },
  {
   "cell_type": "code",
   "execution_count": null,
   "id": "36a10a2b",
   "metadata": {},
   "outputs": [],
   "source": [
    "collectedIDs = list()\n",
    "\n",
    "# in Funktion gekapselter API-Call\n",
    "\n",
    "def callDDBAPI(offset):\n",
    "    endpoint = \"https://api.deutsche-digitale-bibliothek.de/search\"\n",
    "    params = {\n",
    "      \"query\": \"dante alighieri\",\n",
    "      \"type_fct\": \"mediatype_002\",\n",
    "      \"facet\": [\n",
    "        \"type_fct\"\n",
    "      ],\n",
    "    \"sort\" : \"ALPHA_ASC\",\n",
    "    \"offset\" : offset, # wird bei jeder Iteration erhöht\n",
    "    \"rows\" : 10 # bleibt stabil, es sollen jedesmal 10 Datensätze abgerufen werden\n",
    "    }\n",
    "\n",
    "    headers = {\n",
    "      \"Accept\": \"application/json\",\n",
    "      \"Authorization\": f'OAuth oauth_consumer_key=\"{APIKEY}\"'\n",
    "    }\n",
    "    \n",
    "    response = requests.get(endpoint, headers = headers, params = params)\n",
    "    IDs = [_.get('id') for _ in response.json().get('results')[0].get('docs')]\n",
    "    return IDs   "
   ]
  },
  {
   "cell_type": "code",
   "execution_count": null,
   "id": "10d2bd58",
   "metadata": {},
   "outputs": [],
   "source": [
    "offset = 0\n",
    "while offset <= numberOfResults:\n",
    "    collectedIDs.extend(callDDBAPI(offset))\n",
    "    offset += 10"
   ]
  },
  {
   "cell_type": "code",
   "execution_count": null,
   "id": "a3417222",
   "metadata": {},
   "outputs": [],
   "source": [
    "print(collectedIDs)"
   ]
  },
  {
   "cell_type": "markdown",
   "id": "f3e3cded",
   "metadata": {},
   "source": [
    "### Alternative Methode (mit `cursorMark`)"
   ]
  },
  {
   "cell_type": "code",
   "execution_count": null,
   "id": "0af3d242",
   "metadata": {},
   "outputs": [],
   "source": [
    "def callDDBAPI(cursorMark):\n",
    "    endpoint = \"https://api.deutsche-digitale-bibliothek.de/search\"\n",
    "    params = {\n",
    "      \"query\": \"dante alighieri\",\n",
    "      \"type_fct\": \"mediatype_002\",\n",
    "      \"facet\": [\n",
    "        \"type_fct\"\n",
    "      ],\n",
    "    \"sort\" : \"ALPHA_ASC\",\n",
    "    \"cursorMark\" : cursorMark, # wird bei jeder Iteration erhöht\n",
    "    \"rows\" : 100 # bleibt stabil, es sollen jedesmal 10 Datensätze abgerufen werden\n",
    "    }\n",
    "    \n",
    "    headers = {\n",
    "      \"Accept\": \"application/json\",\n",
    "      \"Authorization\": f'OAuth oauth_consumer_key=\"{APIKEY}\"'\n",
    "    }\n",
    "    \n",
    "    response = requests.get(endpoint, headers = headers, params = params)\n",
    "    #IDs = [_.get('id') for _ in response.json().get('results')[0].get('docs')]\n",
    "    return response   \n",
    "    "
   ]
  },
  {
   "cell_type": "code",
   "execution_count": null,
   "id": "da180228",
   "metadata": {},
   "outputs": [],
   "source": [
    "collectedIDs_cursorMark = list()\n",
    "\n",
    "res = callDDBAPI('*')\n",
    "IDs = [_.get('id') for _ in res.json().get('results')[0].get('docs')]\n",
    "collectedIDs_cursorMark.extend(IDs)\n",
    "\n",
    "firstCursorMark = res.json().get('nextCursorMark').strip()\n",
    "nextCursorMark = res.json().get('nextCursorMark').strip()\n",
    "\n",
    "while True:\n",
    "    res = callDDBAPI(nextCursorMark)\n",
    "    IDs = [_.get('id') for _ in res.json().get('results')[0].get('docs')]\n",
    "    collectedIDs_cursorMark.extend(IDs)\n",
    "    if nextCursorMark == res.json().get('nextCursorMark').strip():\n",
    "        print(\"Done!\")\n",
    "        break\n",
    "    else:\n",
    "        nextCursorMark = res.json().get('nextCursorMark').strip()"
   ]
  },
  {
   "cell_type": "code",
   "execution_count": null,
   "id": "c07ce92f",
   "metadata": {},
   "outputs": [],
   "source": [
    "len(collectedIDs_cursorMark)"
   ]
  }
 ],
 "metadata": {
  "language_info": {
   "name": "python"
  }
 },
 "nbformat": 4,
 "nbformat_minor": 5
}
