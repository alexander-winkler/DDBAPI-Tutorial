{
 "cells": [
  {
   "cell_type": "markdown",
   "id": "e4434ce1",
   "metadata": {},
   "source": [
    "# DDB API: `institutions`\n",
    "\n",
    "OpenAPI-Dokumentation: https://labs.deutsche-digitale-bibliothek.de/app/ddbapi/#/institutions"
   ]
  },
  {
   "cell_type": "code",
   "execution_count": null,
   "id": "5c98aac5",
   "metadata": {},
   "outputs": [],
   "source": [
    "# Modulimport\n",
    "import requests # Standardbibliothek zur Interaktion mit Servern über HTTP"
   ]
  },
  {
   "cell_type": "code",
   "execution_count": null,
   "id": "0ade503f",
   "metadata": {},
   "outputs": [],
   "source": [
    "APIKEY = \"\""
   ]
  },
  {
   "cell_type": "code",
   "execution_count": null,
   "id": "731918c7",
   "metadata": {},
   "outputs": [],
   "source": [
    "endpunkt = \"https://api.deutsche-digitale-bibliothek.de/institutions\"\n",
    "\n",
    "# HTTP Request-Header\n",
    "headers = {\n",
    "    'Accept' : 'application/json',\n",
    "    # Authentifizierung auch über Header möglich:\n",
    "    'Authorization' : f'OAuth oauth_consumer_key=\"{APIKEY}\"'\n",
    "}\n",
    "\n",
    "# Parameter, die an den Endpunkt angefügt werden\n",
    "parameters = {\n",
    "    'hasItems' : \"false\",\n",
    "    'sector' : \"sec_01\", # optional, mögliche Werte: sec_01 bis sec_07\n",
    "    # Authentifizierung über Paramter:\n",
    "    #\"oauth_consumer_key\" : APIKEY\n",
    "}\n",
    "\n",
    "res = requests.get(endpunkt, headers = headers, params = parameters)"
   ]
  },
  {
   "cell_type": "markdown",
   "id": "f94d8958",
   "metadata": {},
   "source": [
    "Die Antwort ist im JSON-Format."
   ]
  },
  {
   "cell_type": "code",
   "execution_count": null,
   "id": "de2f6cdc",
   "metadata": {},
   "outputs": [],
   "source": [
    "res.json()"
   ]
  },
  {
   "cell_type": "code",
   "execution_count": null,
   "id": "5f2672eb",
   "metadata": {},
   "outputs": [],
   "source": [
    "for institution in res.json():\n",
    "    print(institution['id'], institution['name'], institution['sector'])"
   ]
  },
  {
   "cell_type": "code",
   "execution_count": null,
   "id": "bafe95de",
   "metadata": {},
   "outputs": [],
   "source": [
    "9"
   ]
  }
 ],
 "metadata": {
  "kernelspec": {
   "display_name": "Python 3 (ipykernel)",
   "language": "python",
   "name": "python3"
  },
  "language_info": {
   "codemirror_mode": {
    "name": "ipython",
    "version": 3
   },
   "file_extension": ".py",
   "mimetype": "text/x-python",
   "name": "python",
   "nbconvert_exporter": "python",
   "pygments_lexer": "ipython3",
   "version": "3.11.7"
  }
 },
 "nbformat": 4,
 "nbformat_minor": 5
}
