{
 "cells": [
  {
   "cell_type": "markdown",
   "id": "e4434ce1",
   "metadata": {},
   "source": [
    "# DDB API: `institutions`\n",
    "\n",
    "OpenAPI-Dokumentation: https://labs.deutsche-digitale-bibliothek.de/app/ddbapi/#/institutions"
   ]
  },
  {
   "cell_type": "code",
   "execution_count": null,
   "id": "5c98aac5",
   "metadata": {},
   "outputs": [],
   "source": [
    "# Modulimport\n",
    "import requests # Standardbibliothek zur Interaktion mit Servern über HTTP\n",
    "from matplotlib import pyplot as plt\n",
    "from collections import Counter"
   ]
  },
  {
   "cell_type": "code",
   "execution_count": null,
   "id": "0ade503f",
   "metadata": {},
   "outputs": [],
   "source": [
    "# APIKEY wird entweder aus einer Datei eingelesen\n",
    "try:\n",
    "    with open('../apikey.txt', 'r') as IN:\n",
    "        APIKEY = IN.read()\n",
    "# oder manuell eingegeben\n",
    "except:\n",
    "    APIKEY = \"\""
   ]
  },
  {
   "cell_type": "code",
   "execution_count": null,
   "id": "c9758dfd",
   "metadata": {},
   "outputs": [],
   "source": [
    "APIKEY"
   ]
  },
  {
   "cell_type": "code",
   "execution_count": null,
   "id": "731918c7",
   "metadata": {},
   "outputs": [],
   "source": [
    "endpunkt = \"https://api.deutsche-digitale-bibliothek.de/institutions\"\n",
    "\n",
    "# HTTP Request-Header\n",
    "headers = {\n",
    "    'Accept' : 'application/json',\n",
    "    # Authentifizierung auch über Header möglich:\n",
    "    'Authorization' : f'OAuth oauth_consumer_key=\"{APIKEY}\"'\n",
    "}\n",
    "\n",
    "# Parameter, die an den Endpunkt angefügt werden\n",
    "parameters = {\n",
    "    'hasItems' : \"false\",\n",
    "    #'sector' : \"sec_01\", # optional, mögliche Werte: sec_01 bis sec_07. Kein Wert heißt alle Sektoren\n",
    "    # Authentifizierung über Paramter:\n",
    "    #\"oauth_consumer_key\" : APIKEY\n",
    "}\n",
    "\n",
    "res = requests.get(endpunkt, headers = headers, params = parameters)"
   ]
  },
  {
   "cell_type": "markdown",
   "id": "f94d8958",
   "metadata": {},
   "source": [
    "Die Antwort ist im JSON-Format:"
   ]
  },
  {
   "cell_type": "code",
   "execution_count": null,
   "id": "de2f6cdc",
   "metadata": {},
   "outputs": [],
   "source": [
    "res.json()[:2]"
   ]
  },
  {
   "cell_type": "markdown",
   "id": "e58efb54",
   "metadata": {},
   "source": [
    "Man kann sich also eine Liste der Institutionen ausgeben lassen (hier die ersten 5):"
   ]
  },
  {
   "cell_type": "code",
   "execution_count": null,
   "id": "5f2672eb",
   "metadata": {},
   "outputs": [],
   "source": [
    "for institution in res.json()[:5]:\n",
    "    print(institution['id'], institution['name'], institution['sector'])"
   ]
  },
  {
   "cell_type": "markdown",
   "id": "61e61d00",
   "metadata": {},
   "source": [
    "Man kann auch schon erste Statistiken erheben. Wie verteilen sich die Insitutionen auf die verschiedenen Sektoren?"
   ]
  },
  {
   "cell_type": "code",
   "execution_count": null,
   "id": "146ae0b5",
   "metadata": {},
   "outputs": [],
   "source": [
    "Counter([institution['sector'] for institution in res.json()])"
   ]
  },
  {
   "cell_type": "markdown",
   "id": "eedf4d8f",
   "metadata": {},
   "source": [
    "Diese Zahlen lassen sich auch visualisieren:"
   ]
  },
  {
   "cell_type": "code",
   "execution_count": null,
   "id": "efc32f95",
   "metadata": {},
   "outputs": [],
   "source": [
    "plt.title(\"Verteilung der GLAMs auf DDB nach Sektoren\")\n",
    "plt.hist(sorted([institution['sector'] for institution in res.json()]))\n",
    "plt.show()"
   ]
  },
  {
   "cell_type": "markdown",
   "id": "7b5f9bb2",
   "metadata": {},
   "source": [
    "### Wie viele Institutionen liefern Daten an die DDB?"
   ]
  },
  {
   "cell_type": "code",
   "execution_count": null,
   "id": "044c575d",
   "metadata": {},
   "outputs": [],
   "source": [
    "endpunkt = \"https://api.deutsche-digitale-bibliothek.de/institutions\"\n",
    "\n",
    "# HTTP Request-Header\n",
    "headers = {\n",
    "    'Accept' : 'application/json',\n",
    "    # Authentifizierung auch über Header möglich:\n",
    "    'Authorization' : f'OAuth oauth_consumer_key=\"{APIKEY}\"'\n",
    "}\n",
    "\n",
    "# Parameter, die an den Endpunkt angefügt werden\n",
    "parameters = {\n",
    "    #'sector' : \"sec_01\", # optional, mögliche Werte: sec_01 bis sec_07. Kein Wert heißt alle Sektoren\n",
    "    # Authentifizierung über Paramter:\n",
    "    #\"oauth_consumer_key\" : APIKEY\n",
    "}"
   ]
  },
  {
   "cell_type": "code",
   "execution_count": null,
   "id": "902a8999",
   "metadata": {},
   "outputs": [],
   "source": [
    "parameters['hasItems'] = \"false\" # zeige alle Institutionen\n",
    "\n",
    "institutionenGesamt = len(requests.get(endpunkt, headers = headers, params = parameters).json())\n",
    "\n",
    "parameters['hasItems'] = \"true\" # zeige nur Institutionen mit digitalen Objekten\n",
    "\n",
    "institutionenMitObjekten = len(requests.get(endpunkt, headers = headers, params = parameters).json())\n",
    "institutionenOhneObjekte = institutionenGesamt - institutionenMitObjekten"
   ]
  },
  {
   "cell_type": "code",
   "execution_count": null,
   "id": "2366d8a1",
   "metadata": {},
   "outputs": [],
   "source": [
    "plt.title(\"Wie viele Institutionen liefern Digitalisate an die DDB?\")\n",
    "plt.bar([\"mit Digitalisaten\", \"ohne Digitalisate\"], [institutionenMitObjekten, institutionenOhneObjekte])\n",
    "plt.show()"
   ]
  },
  {
   "cell_type": "markdown",
   "id": "a28fdbd7",
   "metadata": {},
   "source": [
    "### Wie viele Institutionen liefern Daten an die DDB je Sparte?\n",
    "\n",
    "Hier lohnt es sich jetzt, das oben verwendete Vorgehen in eine Funktion zu packen."
   ]
  },
  {
   "cell_type": "code",
   "execution_count": null,
   "id": "163d82bc",
   "metadata": {},
   "outputs": [],
   "source": [
    "# Liste der Sektoren\n",
    "headers = {\n",
    "    'Accept' : 'application/json',\n",
    "    'Authorization' : f'OAuth oauth_consumer_key=\"{APIKEY}\"'\n",
    "}\n",
    "\n",
    "res = requests.get('https://api.deutsche-digitale-bibliothek.de/institutions/sectors', headers = headers)\n",
    "\n",
    "sectorList = [_['value'] for _ in res.json()]"
   ]
  },
  {
   "cell_type": "code",
   "execution_count": null,
   "id": "02dc3e49",
   "metadata": {},
   "outputs": [],
   "source": [
    "def institutionJeSparte(sparte):\n",
    "    \n",
    "    endpunkt = \"https://api.deutsche-digitale-bibliothek.de/institutions\"\n",
    "\n",
    "    # HTTP Request-Header\n",
    "    headers = {\n",
    "        'Accept' : 'application/json',\n",
    "        'Authorization' : f'OAuth oauth_consumer_key=\"{APIKEY}\"'\n",
    "    }\n",
    "\n",
    "    # Parameter, die an den Endpunkt angefügt werden\n",
    "    parameters = {\n",
    "        'sector' : sparte\n",
    "    }\n",
    "    \n",
    "    # mit Objekten\n",
    "    parameters['hasItems'] = \"true\"\n",
    "    mitObjekten = len(requests.get(endpunkt, headers = headers, params = parameters).json())\n",
    "    \n",
    "    # ohne Objekte\n",
    "    parameters['hasItems'] = \"false\"\n",
    "    gesamt = len(requests.get(endpunkt, headers = headers, params = parameters).json())\n",
    "    ohneObjekte = gesamt - mitObjekten\n",
    "    \n",
    "    return (mitObjekten, ohneObjekte)"
   ]
  },
  {
   "cell_type": "code",
   "execution_count": null,
   "id": "e985f23f",
   "metadata": {},
   "outputs": [],
   "source": [
    "mitObjektenListe = list()\n",
    "ohneObjekteListe = list()\n",
    "\n",
    "for s in sectorList:\n",
    "    mit,ohne = institutionJeSparte(s)\n",
    "    mitObjektenListe.append(mit)\n",
    "    ohneObjekteListe.append(ohne)"
   ]
  },
  {
   "cell_type": "code",
   "execution_count": null,
   "id": "736c0ce5",
   "metadata": {},
   "outputs": [],
   "source": [
    "fix, ax = plt.subplots(layout='constrained')\n",
    "balkenBreite = 0.4\n",
    "\n",
    "for n, sec in enumerate(sectorList):\n",
    "    rects = ax.bar([n, n + balkenBreite], [ mitObjektenListe[n], ohneObjekteListe[n] ], balkenBreite, color = [\"green\", \"red\"] )\n",
    "    ax.bar_label(rects, padding = 3)\n",
    "    \n",
    "ax.set_ylabel('Zahl der Einrichtungen')\n",
    "ax.set_title('Datenliefernde Einrichtungen je Sparte')\n",
    "ax.set_xticks([_ + balkenBreite/2 for _ in range(len(objekteJeSparte))], objekteJeSparte.keys() )\n",
    "plt.show()"
   ]
  }
 ],
 "metadata": {
  "language_info": {
   "name": "python"
  }
 },
 "nbformat": 4,
 "nbformat_minor": 5
}
