{
 "cells": [
  {
   "cell_type": "markdown",
   "id": "e4434ce1",
   "metadata": {},
   "source": [
    "# DDB API: `institutions`\n",
    "\n",
    "OpenAPI-Dokumentation: https://labs.deutsche-digitale-bibliothek.de/app/ddbapi/#/institutions"
   ]
  },
  {
   "cell_type": "code",
   "execution_count": null,
   "id": "5c98aac5",
   "metadata": {},
   "outputs": [],
   "source": [
    "# Modulimport\n",
    "import requests # Standardbibliothek zur Interaktion mit Servern über HTTP"
   ]
  },
  {
   "cell_type": "code",
   "execution_count": null,
   "id": "0ade503f",
   "metadata": {},
   "outputs": [],
   "source": [
    "# APIKEY wird entweder aus einer Datei eingelesen\n",
    "try:\n",
    "    with open('../apikey.txt', 'r') as IN:\n",
    "        APIKEY = IN.read()\n",
    "# oder manuell eingegeben\n",
    "except:\n",
    "    APIKEY = \"\""
   ]
  },
  {
   "cell_type": "code",
   "execution_count": null,
   "id": "c9758dfd",
   "metadata": {},
   "outputs": [],
   "source": [
    "APIKEY"
   ]
  },
  {
   "cell_type": "code",
   "execution_count": null,
   "id": "731918c7",
   "metadata": {},
   "outputs": [],
   "source": [
    "endpunkt = \"https://api.deutsche-digitale-bibliothek.de/institutions\"\n",
    "\n",
    "# HTTP Request-Header\n",
    "headers = {\n",
    "    'Accept' : 'application/json',\n",
    "    # Authentifizierung auch über Header möglich:\n",
    "    'Authorization' : f'OAuth oauth_consumer_key=\"{APIKEY}\"'\n",
    "}\n",
    "\n",
    "# Parameter, die an den Endpunkt angefügt werden\n",
    "parameters = {\n",
    "    'hasItems' : \"false\",\n",
    "    #'sector' : \"sec_01\", # optional, mögliche Werte: sec_01 bis sec_07. Kein Wert heißt alle Sektoren\n",
    "    # Authentifizierung über Paramter:\n",
    "    #\"oauth_consumer_key\" : APIKEY\n",
    "}\n",
    "\n",
    "res = requests.get(endpunkt, headers = headers, params = parameters)"
   ]
  },
  {
   "cell_type": "markdown",
   "id": "f94d8958",
   "metadata": {},
   "source": [
    "Die Antwort ist im JSON-Format:"
   ]
  },
  {
   "cell_type": "code",
   "execution_count": null,
   "id": "de2f6cdc",
   "metadata": {},
   "outputs": [],
   "source": [
    "res.json()[:2]"
   ]
  },
  {
   "cell_type": "markdown",
   "id": "e58efb54",
   "metadata": {},
   "source": [
    "Man kann sich also eine Liste der Institutionen ausgeben lassen (hier die ersten 5):"
   ]
  },
  {
   "cell_type": "code",
   "execution_count": null,
   "id": "5f2672eb",
   "metadata": {},
   "outputs": [],
   "source": [
    "for institution in res.json()[:5]:\n",
    "    print(institution['id'], institution['name'], institution['sector'])"
   ]
  },
  {
   "cell_type": "markdown",
   "id": "61e61d00",
   "metadata": {},
   "source": [
    "Man kann auch schon erste Statistiken erheben. Wie verteilen sich die Insitutionen auf die verschiedenen Sektoren?"
   ]
  },
  {
   "cell_type": "code",
   "execution_count": null,
   "id": "146ae0b5",
   "metadata": {},
   "outputs": [],
   "source": [
    "from collections import Counter\n",
    "\n",
    "Counter([institution['sector'] for institution in res.json()])"
   ]
  },
  {
   "cell_type": "markdown",
   "id": "eedf4d8f",
   "metadata": {},
   "source": [
    "Diese Zahlen lassen sich auch visualisieren:"
   ]
  },
  {
   "cell_type": "code",
   "execution_count": null,
   "id": "efc32f95",
   "metadata": {},
   "outputs": [],
   "source": [
    "from matplotlib import pyplot as plt\n",
    "\n",
    "plt.title(\"Verteilung der GLAMs auf DDB nach Sektoren\")\n",
    "plt.hist(sorted([institution['sector'] for institution in res.json()]))\n",
    "plt.show()"
   ]
  }
 ],
 "metadata": {
  "language_info": {
   "name": "python"
  }
 },
 "nbformat": 4,
 "nbformat_minor": 5
}
